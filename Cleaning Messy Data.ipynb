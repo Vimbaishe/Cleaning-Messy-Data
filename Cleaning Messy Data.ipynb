{
 "cells": [
  {
   "cell_type": "code",
   "execution_count": 1,
   "id": "ab8f31db",
   "metadata": {},
   "outputs": [],
   "source": [
    "import numpy as np\n",
    "import pandas as pd"
   ]
  },
  {
   "cell_type": "code",
   "execution_count": 2,
   "id": "fc01d72a",
   "metadata": {},
   "outputs": [],
   "source": [
    "data = pd.read_csv(r'C:\\Users\\Pamela\\OneDrive\\Desktop\\SkilHarvest\\Assignments\\messy_data.xlsx - Sheet1.csv')"
   ]
  },
  {
   "cell_type": "code",
   "execution_count": 3,
   "id": "5c55c9d9",
   "metadata": {},
   "outputs": [
    {
     "data": {
      "text/html": [
       "<div>\n",
       "<style scoped>\n",
       "    .dataframe tbody tr th:only-of-type {\n",
       "        vertical-align: middle;\n",
       "    }\n",
       "\n",
       "    .dataframe tbody tr th {\n",
       "        vertical-align: top;\n",
       "    }\n",
       "\n",
       "    .dataframe thead th {\n",
       "        text-align: right;\n",
       "    }\n",
       "</style>\n",
       "<table border=\"1\" class=\"dataframe\">\n",
       "  <thead>\n",
       "    <tr style=\"text-align: right;\">\n",
       "      <th></th>\n",
       "      <th>TrnsnID</th>\n",
       "      <th>Data</th>\n",
       "      <th>CusmrID</th>\n",
       "      <th>ProdtID</th>\n",
       "      <th>ProdtName</th>\n",
       "      <th>Qutity</th>\n",
       "      <th>Prize</th>\n",
       "      <th>TtlSales</th>\n",
       "      <th>PaymentType</th>\n",
       "      <th>CusterAge</th>\n",
       "    </tr>\n",
       "  </thead>\n",
       "  <tbody>\n",
       "    <tr>\n",
       "      <th>0</th>\n",
       "      <td>7402</td>\n",
       "      <td>03/17/2026</td>\n",
       "      <td>991</td>\n",
       "      <td>1045</td>\n",
       "      <td>Boo E</td>\n",
       "      <td>9</td>\n",
       "      <td>167.72</td>\n",
       "      <td>2935.06</td>\n",
       "      <td>NaN</td>\n",
       "      <td>87</td>\n",
       "    </tr>\n",
       "    <tr>\n",
       "      <th>1</th>\n",
       "      <td>5835</td>\n",
       "      <td>26-01-2035</td>\n",
       "      <td>741</td>\n",
       "      <td>1040</td>\n",
       "      <td>Book J</td>\n",
       "      <td>18</td>\n",
       "      <td>193.27</td>\n",
       "      <td>4386.52</td>\n",
       "      <td>debit card</td>\n",
       "      <td>69</td>\n",
       "    </tr>\n",
       "    <tr>\n",
       "      <th>2</th>\n",
       "      <td>2123</td>\n",
       "      <td>05/26/2035</td>\n",
       "      <td>933</td>\n",
       "      <td>1062</td>\n",
       "      <td>Bok N</td>\n",
       "      <td>5</td>\n",
       "      <td>126.39</td>\n",
       "      <td>1948.46</td>\n",
       "      <td>Cash</td>\n",
       "      <td>15</td>\n",
       "    </tr>\n",
       "    <tr>\n",
       "      <th>3</th>\n",
       "      <td>8789</td>\n",
       "      <td>28-02-2036</td>\n",
       "      <td>641</td>\n",
       "      <td>1060</td>\n",
       "      <td>Book I</td>\n",
       "      <td>6</td>\n",
       "      <td>66.98</td>\n",
       "      <td>1757.26</td>\n",
       "      <td>Cash</td>\n",
       "      <td>22</td>\n",
       "    </tr>\n",
       "    <tr>\n",
       "      <th>4</th>\n",
       "      <td>305</td>\n",
       "      <td>19-04-2023</td>\n",
       "      <td>123</td>\n",
       "      <td>1058</td>\n",
       "      <td>Book B</td>\n",
       "      <td>15</td>\n",
       "      <td>33.63</td>\n",
       "      <td>2578.19</td>\n",
       "      <td>Cash</td>\n",
       "      <td>-1</td>\n",
       "    </tr>\n",
       "    <tr>\n",
       "      <th>...</th>\n",
       "      <td>...</td>\n",
       "      <td>...</td>\n",
       "      <td>...</td>\n",
       "      <td>...</td>\n",
       "      <td>...</td>\n",
       "      <td>...</td>\n",
       "      <td>...</td>\n",
       "      <td>...</td>\n",
       "      <td>...</td>\n",
       "      <td>...</td>\n",
       "    </tr>\n",
       "    <tr>\n",
       "      <th>10095</th>\n",
       "      <td>5735</td>\n",
       "      <td>04/03/2027</td>\n",
       "      <td>52</td>\n",
       "      <td>1066</td>\n",
       "      <td>Book G</td>\n",
       "      <td>1</td>\n",
       "      <td>191.41</td>\n",
       "      <td>2788.25</td>\n",
       "      <td>Credit Card</td>\n",
       "      <td>91</td>\n",
       "    </tr>\n",
       "    <tr>\n",
       "      <th>10096</th>\n",
       "      <td>5192</td>\n",
       "      <td>08/16/2025</td>\n",
       "      <td>334</td>\n",
       "      <td>1093</td>\n",
       "      <td>Bok N</td>\n",
       "      <td>-2</td>\n",
       "      <td>186.16</td>\n",
       "      <td>1187.53</td>\n",
       "      <td>paypal</td>\n",
       "      <td>50</td>\n",
       "    </tr>\n",
       "    <tr>\n",
       "      <th>10097</th>\n",
       "      <td>5391</td>\n",
       "      <td>06/18/2026</td>\n",
       "      <td>657</td>\n",
       "      <td>1047</td>\n",
       "      <td>Bookk H</td>\n",
       "      <td>5</td>\n",
       "      <td>84.38</td>\n",
       "      <td>2119.76</td>\n",
       "      <td>debit card</td>\n",
       "      <td>63</td>\n",
       "    </tr>\n",
       "    <tr>\n",
       "      <th>10098</th>\n",
       "      <td>861</td>\n",
       "      <td>04/08/2034</td>\n",
       "      <td>579</td>\n",
       "      <td>1014</td>\n",
       "      <td>Bok N</td>\n",
       "      <td>19</td>\n",
       "      <td>137.58</td>\n",
       "      <td>1708.87</td>\n",
       "      <td>Debit</td>\n",
       "      <td>-7</td>\n",
       "    </tr>\n",
       "    <tr>\n",
       "      <th>10099</th>\n",
       "      <td>7271</td>\n",
       "      <td>26-04-2029</td>\n",
       "      <td>153</td>\n",
       "      <td>1052</td>\n",
       "      <td>Book T</td>\n",
       "      <td>10</td>\n",
       "      <td>159.98</td>\n",
       "      <td>2743.67</td>\n",
       "      <td>debit card</td>\n",
       "      <td>77</td>\n",
       "    </tr>\n",
       "  </tbody>\n",
       "</table>\n",
       "<p>10100 rows × 10 columns</p>\n",
       "</div>"
      ],
      "text/plain": [
       "       TrnsnID        Data  CusmrID  ProdtID ProdtName  Qutity   Prize  \\\n",
       "0         7402  03/17/2026      991     1045     Boo E       9  167.72   \n",
       "1         5835  26-01-2035      741     1040    Book J      18  193.27   \n",
       "2         2123  05/26/2035      933     1062     Bok N       5  126.39   \n",
       "3         8789  28-02-2036      641     1060    Book I       6   66.98   \n",
       "4          305  19-04-2023      123     1058    Book B      15   33.63   \n",
       "...        ...         ...      ...      ...       ...     ...     ...   \n",
       "10095     5735  04/03/2027       52     1066    Book G       1  191.41   \n",
       "10096     5192  08/16/2025      334     1093     Bok N      -2  186.16   \n",
       "10097     5391  06/18/2026      657     1047   Bookk H       5   84.38   \n",
       "10098      861  04/08/2034      579     1014     Bok N      19  137.58   \n",
       "10099     7271  26-04-2029      153     1052    Book T      10  159.98   \n",
       "\n",
       "       TtlSales  PaymentType  CusterAge  \n",
       "0       2935.06          NaN         87  \n",
       "1       4386.52   debit card         69  \n",
       "2       1948.46         Cash         15  \n",
       "3       1757.26         Cash         22  \n",
       "4       2578.19         Cash         -1  \n",
       "...         ...          ...        ...  \n",
       "10095   2788.25  Credit Card         91  \n",
       "10096   1187.53       paypal         50  \n",
       "10097   2119.76   debit card         63  \n",
       "10098   1708.87        Debit         -7  \n",
       "10099   2743.67   debit card         77  \n",
       "\n",
       "[10100 rows x 10 columns]"
      ]
     },
     "execution_count": 3,
     "metadata": {},
     "output_type": "execute_result"
    }
   ],
   "source": [
    "data"
   ]
  },
  {
   "cell_type": "markdown",
   "id": "717370e2",
   "metadata": {},
   "source": [
    "# Checking for and removing duplicate values"
   ]
  },
  {
   "cell_type": "code",
   "execution_count": 4,
   "id": "613c46ea",
   "metadata": {},
   "outputs": [
    {
     "data": {
      "text/plain": [
       "0        False\n",
       "1        False\n",
       "2        False\n",
       "3        False\n",
       "4        False\n",
       "         ...  \n",
       "10095    False\n",
       "10096    False\n",
       "10097    False\n",
       "10098    False\n",
       "10099    False\n",
       "Length: 10100, dtype: bool"
      ]
     },
     "execution_count": 4,
     "metadata": {},
     "output_type": "execute_result"
    }
   ],
   "source": [
    "data.duplicated()"
   ]
  },
  {
   "cell_type": "code",
   "execution_count": 5,
   "id": "a2f6031f",
   "metadata": {},
   "outputs": [
    {
     "data": {
      "text/html": [
       "<div>\n",
       "<style scoped>\n",
       "    .dataframe tbody tr th:only-of-type {\n",
       "        vertical-align: middle;\n",
       "    }\n",
       "\n",
       "    .dataframe tbody tr th {\n",
       "        vertical-align: top;\n",
       "    }\n",
       "\n",
       "    .dataframe thead th {\n",
       "        text-align: right;\n",
       "    }\n",
       "</style>\n",
       "<table border=\"1\" class=\"dataframe\">\n",
       "  <thead>\n",
       "    <tr style=\"text-align: right;\">\n",
       "      <th></th>\n",
       "      <th>TrnsnID</th>\n",
       "      <th>Data</th>\n",
       "      <th>CusmrID</th>\n",
       "      <th>ProdtID</th>\n",
       "      <th>ProdtName</th>\n",
       "      <th>Qutity</th>\n",
       "      <th>Prize</th>\n",
       "      <th>TtlSales</th>\n",
       "      <th>PaymentType</th>\n",
       "      <th>CusterAge</th>\n",
       "    </tr>\n",
       "  </thead>\n",
       "  <tbody>\n",
       "    <tr>\n",
       "      <th>0</th>\n",
       "      <td>7402</td>\n",
       "      <td>03/17/2026</td>\n",
       "      <td>991</td>\n",
       "      <td>1045</td>\n",
       "      <td>Boo E</td>\n",
       "      <td>9</td>\n",
       "      <td>167.72</td>\n",
       "      <td>2935.06</td>\n",
       "      <td>NaN</td>\n",
       "      <td>87</td>\n",
       "    </tr>\n",
       "    <tr>\n",
       "      <th>1</th>\n",
       "      <td>5835</td>\n",
       "      <td>26-01-2035</td>\n",
       "      <td>741</td>\n",
       "      <td>1040</td>\n",
       "      <td>Book J</td>\n",
       "      <td>18</td>\n",
       "      <td>193.27</td>\n",
       "      <td>4386.52</td>\n",
       "      <td>debit card</td>\n",
       "      <td>69</td>\n",
       "    </tr>\n",
       "    <tr>\n",
       "      <th>2</th>\n",
       "      <td>2123</td>\n",
       "      <td>05/26/2035</td>\n",
       "      <td>933</td>\n",
       "      <td>1062</td>\n",
       "      <td>Bok N</td>\n",
       "      <td>5</td>\n",
       "      <td>126.39</td>\n",
       "      <td>1948.46</td>\n",
       "      <td>Cash</td>\n",
       "      <td>15</td>\n",
       "    </tr>\n",
       "    <tr>\n",
       "      <th>3</th>\n",
       "      <td>8789</td>\n",
       "      <td>28-02-2036</td>\n",
       "      <td>641</td>\n",
       "      <td>1060</td>\n",
       "      <td>Book I</td>\n",
       "      <td>6</td>\n",
       "      <td>66.98</td>\n",
       "      <td>1757.26</td>\n",
       "      <td>Cash</td>\n",
       "      <td>22</td>\n",
       "    </tr>\n",
       "    <tr>\n",
       "      <th>4</th>\n",
       "      <td>305</td>\n",
       "      <td>19-04-2023</td>\n",
       "      <td>123</td>\n",
       "      <td>1058</td>\n",
       "      <td>Book B</td>\n",
       "      <td>15</td>\n",
       "      <td>33.63</td>\n",
       "      <td>2578.19</td>\n",
       "      <td>Cash</td>\n",
       "      <td>-1</td>\n",
       "    </tr>\n",
       "    <tr>\n",
       "      <th>...</th>\n",
       "      <td>...</td>\n",
       "      <td>...</td>\n",
       "      <td>...</td>\n",
       "      <td>...</td>\n",
       "      <td>...</td>\n",
       "      <td>...</td>\n",
       "      <td>...</td>\n",
       "      <td>...</td>\n",
       "      <td>...</td>\n",
       "      <td>...</td>\n",
       "    </tr>\n",
       "    <tr>\n",
       "      <th>10095</th>\n",
       "      <td>5735</td>\n",
       "      <td>04/03/2027</td>\n",
       "      <td>52</td>\n",
       "      <td>1066</td>\n",
       "      <td>Book G</td>\n",
       "      <td>1</td>\n",
       "      <td>191.41</td>\n",
       "      <td>2788.25</td>\n",
       "      <td>Credit Card</td>\n",
       "      <td>91</td>\n",
       "    </tr>\n",
       "    <tr>\n",
       "      <th>10096</th>\n",
       "      <td>5192</td>\n",
       "      <td>08/16/2025</td>\n",
       "      <td>334</td>\n",
       "      <td>1093</td>\n",
       "      <td>Bok N</td>\n",
       "      <td>-2</td>\n",
       "      <td>186.16</td>\n",
       "      <td>1187.53</td>\n",
       "      <td>paypal</td>\n",
       "      <td>50</td>\n",
       "    </tr>\n",
       "    <tr>\n",
       "      <th>10097</th>\n",
       "      <td>5391</td>\n",
       "      <td>06/18/2026</td>\n",
       "      <td>657</td>\n",
       "      <td>1047</td>\n",
       "      <td>Bookk H</td>\n",
       "      <td>5</td>\n",
       "      <td>84.38</td>\n",
       "      <td>2119.76</td>\n",
       "      <td>debit card</td>\n",
       "      <td>63</td>\n",
       "    </tr>\n",
       "    <tr>\n",
       "      <th>10098</th>\n",
       "      <td>861</td>\n",
       "      <td>04/08/2034</td>\n",
       "      <td>579</td>\n",
       "      <td>1014</td>\n",
       "      <td>Bok N</td>\n",
       "      <td>19</td>\n",
       "      <td>137.58</td>\n",
       "      <td>1708.87</td>\n",
       "      <td>Debit</td>\n",
       "      <td>-7</td>\n",
       "    </tr>\n",
       "    <tr>\n",
       "      <th>10099</th>\n",
       "      <td>7271</td>\n",
       "      <td>26-04-2029</td>\n",
       "      <td>153</td>\n",
       "      <td>1052</td>\n",
       "      <td>Book T</td>\n",
       "      <td>10</td>\n",
       "      <td>159.98</td>\n",
       "      <td>2743.67</td>\n",
       "      <td>debit card</td>\n",
       "      <td>77</td>\n",
       "    </tr>\n",
       "  </tbody>\n",
       "</table>\n",
       "<p>10000 rows × 10 columns</p>\n",
       "</div>"
      ],
      "text/plain": [
       "       TrnsnID        Data  CusmrID  ProdtID ProdtName  Qutity   Prize  \\\n",
       "0         7402  03/17/2026      991     1045     Boo E       9  167.72   \n",
       "1         5835  26-01-2035      741     1040    Book J      18  193.27   \n",
       "2         2123  05/26/2035      933     1062     Bok N       5  126.39   \n",
       "3         8789  28-02-2036      641     1060    Book I       6   66.98   \n",
       "4          305  19-04-2023      123     1058    Book B      15   33.63   \n",
       "...        ...         ...      ...      ...       ...     ...     ...   \n",
       "10095     5735  04/03/2027       52     1066    Book G       1  191.41   \n",
       "10096     5192  08/16/2025      334     1093     Bok N      -2  186.16   \n",
       "10097     5391  06/18/2026      657     1047   Bookk H       5   84.38   \n",
       "10098      861  04/08/2034      579     1014     Bok N      19  137.58   \n",
       "10099     7271  26-04-2029      153     1052    Book T      10  159.98   \n",
       "\n",
       "       TtlSales  PaymentType  CusterAge  \n",
       "0       2935.06          NaN         87  \n",
       "1       4386.52   debit card         69  \n",
       "2       1948.46         Cash         15  \n",
       "3       1757.26         Cash         22  \n",
       "4       2578.19         Cash         -1  \n",
       "...         ...          ...        ...  \n",
       "10095   2788.25  Credit Card         91  \n",
       "10096   1187.53       paypal         50  \n",
       "10097   2119.76   debit card         63  \n",
       "10098   1708.87        Debit         -7  \n",
       "10099   2743.67   debit card         77  \n",
       "\n",
       "[10000 rows x 10 columns]"
      ]
     },
     "execution_count": 5,
     "metadata": {},
     "output_type": "execute_result"
    }
   ],
   "source": [
    "data.drop_duplicates(inplace = True)\n",
    "data"
   ]
  },
  {
   "cell_type": "markdown",
   "id": "6c923bcc",
   "metadata": {},
   "source": [
    "# Checking for empty spaces in the data"
   ]
  },
  {
   "cell_type": "code",
   "execution_count": 6,
   "id": "e71930fe",
   "metadata": {},
   "outputs": [
    {
     "data": {
      "text/plain": [
       "TrnsnID           0\n",
       "Data              0\n",
       "CusmrID           0\n",
       "ProdtID           0\n",
       "ProdtName       994\n",
       "Qutity            0\n",
       "Prize             0\n",
       "TtlSales          0\n",
       "PaymentType    1439\n",
       "CusterAge         0\n",
       "dtype: int64"
      ]
     },
     "execution_count": 6,
     "metadata": {},
     "output_type": "execute_result"
    }
   ],
   "source": [
    "data.isna().sum()"
   ]
  },
  {
   "cell_type": "code",
   "execution_count": 7,
   "id": "f47354f8",
   "metadata": {},
   "outputs": [
    {
     "data": {
      "text/html": [
       "<div>\n",
       "<style scoped>\n",
       "    .dataframe tbody tr th:only-of-type {\n",
       "        vertical-align: middle;\n",
       "    }\n",
       "\n",
       "    .dataframe tbody tr th {\n",
       "        vertical-align: top;\n",
       "    }\n",
       "\n",
       "    .dataframe thead th {\n",
       "        text-align: right;\n",
       "    }\n",
       "</style>\n",
       "<table border=\"1\" class=\"dataframe\">\n",
       "  <thead>\n",
       "    <tr style=\"text-align: right;\">\n",
       "      <th></th>\n",
       "      <th>TrnsnID</th>\n",
       "      <th>Data</th>\n",
       "      <th>CusmrID</th>\n",
       "      <th>ProdtID</th>\n",
       "      <th>ProdtName</th>\n",
       "      <th>Qutity</th>\n",
       "      <th>Prize</th>\n",
       "      <th>TtlSales</th>\n",
       "      <th>PaymentType</th>\n",
       "      <th>CusterAge</th>\n",
       "    </tr>\n",
       "  </thead>\n",
       "  <tbody>\n",
       "    <tr>\n",
       "      <th>0</th>\n",
       "      <td>False</td>\n",
       "      <td>False</td>\n",
       "      <td>False</td>\n",
       "      <td>False</td>\n",
       "      <td>False</td>\n",
       "      <td>False</td>\n",
       "      <td>False</td>\n",
       "      <td>False</td>\n",
       "      <td>True</td>\n",
       "      <td>False</td>\n",
       "    </tr>\n",
       "    <tr>\n",
       "      <th>1</th>\n",
       "      <td>False</td>\n",
       "      <td>False</td>\n",
       "      <td>False</td>\n",
       "      <td>False</td>\n",
       "      <td>False</td>\n",
       "      <td>False</td>\n",
       "      <td>False</td>\n",
       "      <td>False</td>\n",
       "      <td>False</td>\n",
       "      <td>False</td>\n",
       "    </tr>\n",
       "    <tr>\n",
       "      <th>2</th>\n",
       "      <td>False</td>\n",
       "      <td>False</td>\n",
       "      <td>False</td>\n",
       "      <td>False</td>\n",
       "      <td>False</td>\n",
       "      <td>False</td>\n",
       "      <td>False</td>\n",
       "      <td>False</td>\n",
       "      <td>False</td>\n",
       "      <td>False</td>\n",
       "    </tr>\n",
       "    <tr>\n",
       "      <th>3</th>\n",
       "      <td>False</td>\n",
       "      <td>False</td>\n",
       "      <td>False</td>\n",
       "      <td>False</td>\n",
       "      <td>False</td>\n",
       "      <td>False</td>\n",
       "      <td>False</td>\n",
       "      <td>False</td>\n",
       "      <td>False</td>\n",
       "      <td>False</td>\n",
       "    </tr>\n",
       "    <tr>\n",
       "      <th>4</th>\n",
       "      <td>False</td>\n",
       "      <td>False</td>\n",
       "      <td>False</td>\n",
       "      <td>False</td>\n",
       "      <td>False</td>\n",
       "      <td>False</td>\n",
       "      <td>False</td>\n",
       "      <td>False</td>\n",
       "      <td>False</td>\n",
       "      <td>False</td>\n",
       "    </tr>\n",
       "    <tr>\n",
       "      <th>...</th>\n",
       "      <td>...</td>\n",
       "      <td>...</td>\n",
       "      <td>...</td>\n",
       "      <td>...</td>\n",
       "      <td>...</td>\n",
       "      <td>...</td>\n",
       "      <td>...</td>\n",
       "      <td>...</td>\n",
       "      <td>...</td>\n",
       "      <td>...</td>\n",
       "    </tr>\n",
       "    <tr>\n",
       "      <th>10095</th>\n",
       "      <td>False</td>\n",
       "      <td>False</td>\n",
       "      <td>False</td>\n",
       "      <td>False</td>\n",
       "      <td>False</td>\n",
       "      <td>False</td>\n",
       "      <td>False</td>\n",
       "      <td>False</td>\n",
       "      <td>False</td>\n",
       "      <td>False</td>\n",
       "    </tr>\n",
       "    <tr>\n",
       "      <th>10096</th>\n",
       "      <td>False</td>\n",
       "      <td>False</td>\n",
       "      <td>False</td>\n",
       "      <td>False</td>\n",
       "      <td>False</td>\n",
       "      <td>False</td>\n",
       "      <td>False</td>\n",
       "      <td>False</td>\n",
       "      <td>False</td>\n",
       "      <td>False</td>\n",
       "    </tr>\n",
       "    <tr>\n",
       "      <th>10097</th>\n",
       "      <td>False</td>\n",
       "      <td>False</td>\n",
       "      <td>False</td>\n",
       "      <td>False</td>\n",
       "      <td>False</td>\n",
       "      <td>False</td>\n",
       "      <td>False</td>\n",
       "      <td>False</td>\n",
       "      <td>False</td>\n",
       "      <td>False</td>\n",
       "    </tr>\n",
       "    <tr>\n",
       "      <th>10098</th>\n",
       "      <td>False</td>\n",
       "      <td>False</td>\n",
       "      <td>False</td>\n",
       "      <td>False</td>\n",
       "      <td>False</td>\n",
       "      <td>False</td>\n",
       "      <td>False</td>\n",
       "      <td>False</td>\n",
       "      <td>False</td>\n",
       "      <td>False</td>\n",
       "    </tr>\n",
       "    <tr>\n",
       "      <th>10099</th>\n",
       "      <td>False</td>\n",
       "      <td>False</td>\n",
       "      <td>False</td>\n",
       "      <td>False</td>\n",
       "      <td>False</td>\n",
       "      <td>False</td>\n",
       "      <td>False</td>\n",
       "      <td>False</td>\n",
       "      <td>False</td>\n",
       "      <td>False</td>\n",
       "    </tr>\n",
       "  </tbody>\n",
       "</table>\n",
       "<p>10000 rows × 10 columns</p>\n",
       "</div>"
      ],
      "text/plain": [
       "       TrnsnID   Data  CusmrID  ProdtID  ProdtName  Qutity  Prize  TtlSales  \\\n",
       "0        False  False    False    False      False   False  False     False   \n",
       "1        False  False    False    False      False   False  False     False   \n",
       "2        False  False    False    False      False   False  False     False   \n",
       "3        False  False    False    False      False   False  False     False   \n",
       "4        False  False    False    False      False   False  False     False   \n",
       "...        ...    ...      ...      ...        ...     ...    ...       ...   \n",
       "10095    False  False    False    False      False   False  False     False   \n",
       "10096    False  False    False    False      False   False  False     False   \n",
       "10097    False  False    False    False      False   False  False     False   \n",
       "10098    False  False    False    False      False   False  False     False   \n",
       "10099    False  False    False    False      False   False  False     False   \n",
       "\n",
       "       PaymentType  CusterAge  \n",
       "0             True      False  \n",
       "1            False      False  \n",
       "2            False      False  \n",
       "3            False      False  \n",
       "4            False      False  \n",
       "...            ...        ...  \n",
       "10095        False      False  \n",
       "10096        False      False  \n",
       "10097        False      False  \n",
       "10098        False      False  \n",
       "10099        False      False  \n",
       "\n",
       "[10000 rows x 10 columns]"
      ]
     },
     "execution_count": 7,
     "metadata": {},
     "output_type": "execute_result"
    }
   ],
   "source": [
    "data.isnull()"
   ]
  },
  {
   "cell_type": "markdown",
   "id": "9e78f905",
   "metadata": {},
   "source": [
    "# Putting all dates in similar format"
   ]
  },
  {
   "cell_type": "code",
   "execution_count": 8,
   "id": "8a9a6a4f",
   "metadata": {},
   "outputs": [
    {
     "data": {
      "text/plain": [
       "str"
      ]
     },
     "execution_count": 8,
     "metadata": {},
     "output_type": "execute_result"
    }
   ],
   "source": [
    "#checking the date's data type \n",
    "type('Data')"
   ]
  },
  {
   "cell_type": "code",
   "execution_count": 9,
   "id": "b7d588cc",
   "metadata": {},
   "outputs": [],
   "source": [
    "data['Data'] = data['Data'].str.replace('-','/')"
   ]
  },
  {
   "cell_type": "code",
   "execution_count": 10,
   "id": "b1f0465a",
   "metadata": {},
   "outputs": [
    {
     "data": {
      "text/plain": [
       "0        03/17/2026\n",
       "1        26/01/2035\n",
       "2        05/26/2035\n",
       "3        28/02/2036\n",
       "4        19/04/2023\n",
       "            ...    \n",
       "10095    04/03/2027\n",
       "10096    08/16/2025\n",
       "10097    06/18/2026\n",
       "10098    04/08/2034\n",
       "10099    26/04/2029\n",
       "Name: Data, Length: 10000, dtype: object"
      ]
     },
     "execution_count": 10,
     "metadata": {},
     "output_type": "execute_result"
    }
   ],
   "source": [
    "#check to see how the date column now looks\n",
    "data['Data']"
   ]
  },
  {
   "cell_type": "code",
   "execution_count": 11,
   "id": "ab810524",
   "metadata": {},
   "outputs": [],
   "source": [
    "#now I want to change the data type to datetime\n",
    "#data['Data'] = pd.to_datetime(data['Data'])\n",
    "#data['Data']"
   ]
  },
  {
   "cell_type": "code",
   "execution_count": 12,
   "id": "e1b4c767",
   "metadata": {},
   "outputs": [
    {
     "data": {
      "text/html": [
       "<div>\n",
       "<style scoped>\n",
       "    .dataframe tbody tr th:only-of-type {\n",
       "        vertical-align: middle;\n",
       "    }\n",
       "\n",
       "    .dataframe tbody tr th {\n",
       "        vertical-align: top;\n",
       "    }\n",
       "\n",
       "    .dataframe thead th {\n",
       "        text-align: right;\n",
       "    }\n",
       "</style>\n",
       "<table border=\"1\" class=\"dataframe\">\n",
       "  <thead>\n",
       "    <tr style=\"text-align: right;\">\n",
       "      <th></th>\n",
       "      <th>TrnsnID</th>\n",
       "      <th>Data</th>\n",
       "      <th>CusmrID</th>\n",
       "      <th>ProdtID</th>\n",
       "      <th>ProdtName</th>\n",
       "      <th>Qutity</th>\n",
       "      <th>Prize</th>\n",
       "      <th>TtlSales</th>\n",
       "      <th>PaymentType</th>\n",
       "      <th>CusterAge</th>\n",
       "    </tr>\n",
       "  </thead>\n",
       "  <tbody>\n",
       "    <tr>\n",
       "      <th>0</th>\n",
       "      <td>7402</td>\n",
       "      <td>03/17/2026</td>\n",
       "      <td>991</td>\n",
       "      <td>1045</td>\n",
       "      <td>Boo E</td>\n",
       "      <td>9</td>\n",
       "      <td>167.72</td>\n",
       "      <td>2935.06</td>\n",
       "      <td>NaN</td>\n",
       "      <td>87</td>\n",
       "    </tr>\n",
       "    <tr>\n",
       "      <th>1</th>\n",
       "      <td>5835</td>\n",
       "      <td>26/01/2035</td>\n",
       "      <td>741</td>\n",
       "      <td>1040</td>\n",
       "      <td>Book J</td>\n",
       "      <td>18</td>\n",
       "      <td>193.27</td>\n",
       "      <td>4386.52</td>\n",
       "      <td>debit card</td>\n",
       "      <td>69</td>\n",
       "    </tr>\n",
       "    <tr>\n",
       "      <th>2</th>\n",
       "      <td>2123</td>\n",
       "      <td>05/26/2035</td>\n",
       "      <td>933</td>\n",
       "      <td>1062</td>\n",
       "      <td>Bok N</td>\n",
       "      <td>5</td>\n",
       "      <td>126.39</td>\n",
       "      <td>1948.46</td>\n",
       "      <td>Cash</td>\n",
       "      <td>15</td>\n",
       "    </tr>\n",
       "    <tr>\n",
       "      <th>3</th>\n",
       "      <td>8789</td>\n",
       "      <td>28/02/2036</td>\n",
       "      <td>641</td>\n",
       "      <td>1060</td>\n",
       "      <td>Book I</td>\n",
       "      <td>6</td>\n",
       "      <td>66.98</td>\n",
       "      <td>1757.26</td>\n",
       "      <td>Cash</td>\n",
       "      <td>22</td>\n",
       "    </tr>\n",
       "    <tr>\n",
       "      <th>4</th>\n",
       "      <td>305</td>\n",
       "      <td>19/04/2023</td>\n",
       "      <td>123</td>\n",
       "      <td>1058</td>\n",
       "      <td>Book B</td>\n",
       "      <td>15</td>\n",
       "      <td>33.63</td>\n",
       "      <td>2578.19</td>\n",
       "      <td>Cash</td>\n",
       "      <td>-1</td>\n",
       "    </tr>\n",
       "  </tbody>\n",
       "</table>\n",
       "</div>"
      ],
      "text/plain": [
       "   TrnsnID        Data  CusmrID  ProdtID ProdtName  Qutity   Prize  TtlSales  \\\n",
       "0     7402  03/17/2026      991     1045     Boo E       9  167.72   2935.06   \n",
       "1     5835  26/01/2035      741     1040    Book J      18  193.27   4386.52   \n",
       "2     2123  05/26/2035      933     1062     Bok N       5  126.39   1948.46   \n",
       "3     8789  28/02/2036      641     1060    Book I       6   66.98   1757.26   \n",
       "4      305  19/04/2023      123     1058    Book B      15   33.63   2578.19   \n",
       "\n",
       "  PaymentType  CusterAge  \n",
       "0         NaN         87  \n",
       "1  debit card         69  \n",
       "2        Cash         15  \n",
       "3        Cash         22  \n",
       "4        Cash         -1  "
      ]
     },
     "execution_count": 12,
     "metadata": {},
     "output_type": "execute_result"
    }
   ],
   "source": [
    "data.head()"
   ]
  },
  {
   "cell_type": "markdown",
   "id": "8a715ac9",
   "metadata": {},
   "source": [
    "# Starndadising payment names"
   ]
  },
  {
   "cell_type": "code",
   "execution_count": 13,
   "id": "1dd8f492",
   "metadata": {},
   "outputs": [
    {
     "data": {
      "text/plain": [
       "PaymentType\n",
       "Debit          1452\n",
       "Credit         1433\n",
       "Cash           1426\n",
       "Credit Card    1419\n",
       "debit card     1417\n",
       "paypal         1414\n",
       "Name: count, dtype: int64"
      ]
     },
     "execution_count": 13,
     "metadata": {},
     "output_type": "execute_result"
    }
   ],
   "source": [
    "#total number of times each payment method was used\n",
    "data['PaymentType'].value_counts()"
   ]
  },
  {
   "cell_type": "code",
   "execution_count": 14,
   "id": "9b24def1",
   "metadata": {},
   "outputs": [
    {
     "data": {
      "text/plain": [
       "array([nan, 'debit card', 'Cash', 'Debit', 'Credit', 'Credit Card',\n",
       "       'paypal'], dtype=object)"
      ]
     },
     "execution_count": 14,
     "metadata": {},
     "output_type": "execute_result"
    }
   ],
   "source": [
    "#what are the different payment methods currently showing\n",
    "data['PaymentType'].unique()"
   ]
  },
  {
   "cell_type": "code",
   "execution_count": 15,
   "id": "d4b160dd",
   "metadata": {},
   "outputs": [
    {
     "data": {
      "text/html": [
       "<div>\n",
       "<style scoped>\n",
       "    .dataframe tbody tr th:only-of-type {\n",
       "        vertical-align: middle;\n",
       "    }\n",
       "\n",
       "    .dataframe tbody tr th {\n",
       "        vertical-align: top;\n",
       "    }\n",
       "\n",
       "    .dataframe thead th {\n",
       "        text-align: right;\n",
       "    }\n",
       "</style>\n",
       "<table border=\"1\" class=\"dataframe\">\n",
       "  <thead>\n",
       "    <tr style=\"text-align: right;\">\n",
       "      <th></th>\n",
       "      <th>TrnsnID</th>\n",
       "      <th>Data</th>\n",
       "      <th>CusmrID</th>\n",
       "      <th>ProdtID</th>\n",
       "      <th>ProdtName</th>\n",
       "      <th>Qutity</th>\n",
       "      <th>Prize</th>\n",
       "      <th>TtlSales</th>\n",
       "      <th>PaymentType</th>\n",
       "      <th>CusterAge</th>\n",
       "    </tr>\n",
       "  </thead>\n",
       "  <tbody>\n",
       "    <tr>\n",
       "      <th>0</th>\n",
       "      <td>7402</td>\n",
       "      <td>03/17/2026</td>\n",
       "      <td>991</td>\n",
       "      <td>1045</td>\n",
       "      <td>Boo E</td>\n",
       "      <td>9</td>\n",
       "      <td>167.72</td>\n",
       "      <td>2935.06</td>\n",
       "      <td>NaN</td>\n",
       "      <td>87</td>\n",
       "    </tr>\n",
       "    <tr>\n",
       "      <th>1</th>\n",
       "      <td>5835</td>\n",
       "      <td>26/01/2035</td>\n",
       "      <td>741</td>\n",
       "      <td>1040</td>\n",
       "      <td>Book J</td>\n",
       "      <td>18</td>\n",
       "      <td>193.27</td>\n",
       "      <td>4386.52</td>\n",
       "      <td>Debit Card</td>\n",
       "      <td>69</td>\n",
       "    </tr>\n",
       "    <tr>\n",
       "      <th>2</th>\n",
       "      <td>2123</td>\n",
       "      <td>05/26/2035</td>\n",
       "      <td>933</td>\n",
       "      <td>1062</td>\n",
       "      <td>Bok N</td>\n",
       "      <td>5</td>\n",
       "      <td>126.39</td>\n",
       "      <td>1948.46</td>\n",
       "      <td>Cash</td>\n",
       "      <td>15</td>\n",
       "    </tr>\n",
       "    <tr>\n",
       "      <th>3</th>\n",
       "      <td>8789</td>\n",
       "      <td>28/02/2036</td>\n",
       "      <td>641</td>\n",
       "      <td>1060</td>\n",
       "      <td>Book I</td>\n",
       "      <td>6</td>\n",
       "      <td>66.98</td>\n",
       "      <td>1757.26</td>\n",
       "      <td>Cash</td>\n",
       "      <td>22</td>\n",
       "    </tr>\n",
       "    <tr>\n",
       "      <th>4</th>\n",
       "      <td>305</td>\n",
       "      <td>19/04/2023</td>\n",
       "      <td>123</td>\n",
       "      <td>1058</td>\n",
       "      <td>Book B</td>\n",
       "      <td>15</td>\n",
       "      <td>33.63</td>\n",
       "      <td>2578.19</td>\n",
       "      <td>Cash</td>\n",
       "      <td>-1</td>\n",
       "    </tr>\n",
       "  </tbody>\n",
       "</table>\n",
       "</div>"
      ],
      "text/plain": [
       "   TrnsnID        Data  CusmrID  ProdtID ProdtName  Qutity   Prize  TtlSales  \\\n",
       "0     7402  03/17/2026      991     1045     Boo E       9  167.72   2935.06   \n",
       "1     5835  26/01/2035      741     1040    Book J      18  193.27   4386.52   \n",
       "2     2123  05/26/2035      933     1062     Bok N       5  126.39   1948.46   \n",
       "3     8789  28/02/2036      641     1060    Book I       6   66.98   1757.26   \n",
       "4      305  19/04/2023      123     1058    Book B      15   33.63   2578.19   \n",
       "\n",
       "  PaymentType  CusterAge  \n",
       "0         NaN         87  \n",
       "1  Debit Card         69  \n",
       "2        Cash         15  \n",
       "3        Cash         22  \n",
       "4        Cash         -1  "
      ]
     },
     "execution_count": 15,
     "metadata": {},
     "output_type": "execute_result"
    }
   ],
   "source": [
    "#making entries consistent\n",
    "data['PaymentType'] = data['PaymentType'].replace({'nan':'NaN','debit card':'Debit Card','paypal':'Paypal'})\n",
    "data.head()"
   ]
  },
  {
   "cell_type": "markdown",
   "id": "7df91c14",
   "metadata": {},
   "source": [
    "# Negative Values"
   ]
  },
  {
   "cell_type": "code",
   "execution_count": 16,
   "id": "d163d838",
   "metadata": {},
   "outputs": [
    {
     "data": {
      "text/plain": [
       "4        -1\n",
       "6        -4\n",
       "30       -8\n",
       "32       -1\n",
       "47      -10\n",
       "         ..\n",
       "10065    -5\n",
       "10068    -4\n",
       "10075    -7\n",
       "10080    -1\n",
       "10098    -7\n",
       "Name: CusterAge, Length: 974, dtype: int64"
      ]
     },
     "execution_count": 16,
     "metadata": {},
     "output_type": "execute_result"
    }
   ],
   "source": [
    "#finding negative values in the data\n",
    "data['CusterAge'][data['CusterAge']<0]"
   ]
  },
  {
   "cell_type": "code",
   "execution_count": 17,
   "id": "1b5ffb92",
   "metadata": {},
   "outputs": [],
   "source": [
    "#convert the data to string so that we can strp it later\n",
    "data['CusterAge'] = data['CusterAge'].astype(str)"
   ]
  },
  {
   "cell_type": "code",
   "execution_count": 18,
   "id": "e2a94787",
   "metadata": {},
   "outputs": [
    {
     "data": {
      "text/plain": [
       "0        87\n",
       "1        69\n",
       "2        15\n",
       "3        22\n",
       "4         1\n",
       "         ..\n",
       "10095    91\n",
       "10096    50\n",
       "10097    63\n",
       "10098     7\n",
       "10099    77\n",
       "Name: CusterAge, Length: 10000, dtype: object"
      ]
     },
     "execution_count": 18,
     "metadata": {},
     "output_type": "execute_result"
    }
   ],
   "source": [
    "#using str.strip to remove the negative sign on negative numbers\n",
    "data['CusterAge'] = data['CusterAge'].str.strip('-')\n",
    "data['CusterAge']"
   ]
  },
  {
   "cell_type": "code",
   "execution_count": 19,
   "id": "378a0934",
   "metadata": {},
   "outputs": [
    {
     "name": "stdout",
     "output_type": "stream",
     "text": [
      "<class 'pandas.core.frame.DataFrame'>\n",
      "Index: 10000 entries, 0 to 10099\n",
      "Data columns (total 10 columns):\n",
      " #   Column       Non-Null Count  Dtype  \n",
      "---  ------       --------------  -----  \n",
      " 0   TrnsnID      10000 non-null  int64  \n",
      " 1   Data         10000 non-null  object \n",
      " 2   CusmrID      10000 non-null  int64  \n",
      " 3   ProdtID      10000 non-null  int64  \n",
      " 4   ProdtName    9006 non-null   object \n",
      " 5   Qutity       10000 non-null  int64  \n",
      " 6   Prize        10000 non-null  float64\n",
      " 7   TtlSales     10000 non-null  float64\n",
      " 8   PaymentType  8561 non-null   object \n",
      " 9   CusterAge    10000 non-null  int32  \n",
      "dtypes: float64(2), int32(1), int64(4), object(3)\n",
      "memory usage: 820.3+ KB\n"
     ]
    }
   ],
   "source": [
    "#now I want to convert this data to int in case I want to use it for calculations later\n",
    "data['CusterAge'] = data['CusterAge'].astype(int)\n",
    "data.info()"
   ]
  },
  {
   "cell_type": "code",
   "execution_count": 20,
   "id": "f27eaf47",
   "metadata": {},
   "outputs": [
    {
     "data": {
      "text/plain": [
       "0"
      ]
     },
     "execution_count": 20,
     "metadata": {},
     "output_type": "execute_result"
    }
   ],
   "source": [
    "#checking if I have taken care of all negative values\n",
    "Total_Negative_Numbers = data['CusterAge'][data['CusterAge']<0].value_counts().sum()\n",
    "Total_Negative_Numbers"
   ]
  },
  {
   "cell_type": "code",
   "execution_count": 21,
   "id": "9a526303",
   "metadata": {},
   "outputs": [
    {
     "data": {
      "text/plain": [
       "0"
      ]
     },
     "execution_count": 21,
     "metadata": {},
     "output_type": "execute_result"
    }
   ],
   "source": [
    "data['CusterAge'].min()"
   ]
  },
  {
   "cell_type": "code",
   "execution_count": 22,
   "id": "02afdc12",
   "metadata": {},
   "outputs": [
    {
     "data": {
      "text/plain": [
       "99"
      ]
     },
     "execution_count": 22,
     "metadata": {},
     "output_type": "execute_result"
    }
   ],
   "source": [
    "data['CusterAge'].max()"
   ]
  },
  {
   "cell_type": "code",
   "execution_count": 23,
   "id": "d892a5ff",
   "metadata": {},
   "outputs": [
    {
     "data": {
      "text/plain": [
       "26      -4\n",
       "35      -4\n",
       "47      -2\n",
       "50      -1\n",
       "51      -3\n",
       "        ..\n",
       "10075   -5\n",
       "10088   -5\n",
       "10093   -3\n",
       "10094   -2\n",
       "10096   -2\n",
       "Name: Qutity, Length: 1939, dtype: int64"
      ]
     },
     "execution_count": 23,
     "metadata": {},
     "output_type": "execute_result"
    }
   ],
   "source": [
    "#it doesn't make sense to have quantity less than 0, so I am checking to make sure it is not like that\n",
    "data['Qutity'][data['Qutity']<0]"
   ]
  },
  {
   "cell_type": "code",
   "execution_count": 24,
   "id": "face6456",
   "metadata": {},
   "outputs": [],
   "source": [
    "data['Qutity'] = data['Qutity'].astype(str)"
   ]
  },
  {
   "cell_type": "code",
   "execution_count": 25,
   "id": "2d999aa1",
   "metadata": {},
   "outputs": [
    {
     "data": {
      "text/plain": [
       "0         9\n",
       "1        18\n",
       "2         5\n",
       "3         6\n",
       "4        15\n",
       "         ..\n",
       "10095     1\n",
       "10096     2\n",
       "10097     5\n",
       "10098    19\n",
       "10099    10\n",
       "Name: Qutity, Length: 10000, dtype: object"
      ]
     },
     "execution_count": 25,
     "metadata": {},
     "output_type": "execute_result"
    }
   ],
   "source": [
    "data['Qutity'] = data['Qutity'].str.strip('-')\n",
    "data['Qutity']"
   ]
  },
  {
   "cell_type": "code",
   "execution_count": 26,
   "id": "fe597d1c",
   "metadata": {},
   "outputs": [
    {
     "name": "stdout",
     "output_type": "stream",
     "text": [
      "<class 'pandas.core.frame.DataFrame'>\n",
      "Index: 10000 entries, 0 to 10099\n",
      "Data columns (total 10 columns):\n",
      " #   Column       Non-Null Count  Dtype  \n",
      "---  ------       --------------  -----  \n",
      " 0   TrnsnID      10000 non-null  int64  \n",
      " 1   Data         10000 non-null  object \n",
      " 2   CusmrID      10000 non-null  int64  \n",
      " 3   ProdtID      10000 non-null  int64  \n",
      " 4   ProdtName    9006 non-null   object \n",
      " 5   Qutity       10000 non-null  int32  \n",
      " 6   Prize        10000 non-null  float64\n",
      " 7   TtlSales     10000 non-null  float64\n",
      " 8   PaymentType  8561 non-null   object \n",
      " 9   CusterAge    10000 non-null  int32  \n",
      "dtypes: float64(2), int32(2), int64(3), object(3)\n",
      "memory usage: 781.2+ KB\n"
     ]
    }
   ],
   "source": [
    "data['Qutity'] = data['Qutity'].astype(int)\n",
    "data.info()"
   ]
  },
  {
   "cell_type": "code",
   "execution_count": 27,
   "id": "c6b9bd43",
   "metadata": {},
   "outputs": [
    {
     "data": {
      "text/plain": [
       "0"
      ]
     },
     "execution_count": 27,
     "metadata": {},
     "output_type": "execute_result"
    }
   ],
   "source": [
    "data['Qutity'].min()"
   ]
  },
  {
   "cell_type": "code",
   "execution_count": 28,
   "id": "e60890c5",
   "metadata": {},
   "outputs": [
    {
     "data": {
      "text/plain": [
       "19"
      ]
     },
     "execution_count": 28,
     "metadata": {},
     "output_type": "execute_result"
    }
   ],
   "source": [
    "data['Qutity'].max()"
   ]
  },
  {
   "cell_type": "code",
   "execution_count": 29,
   "id": "e99819ea",
   "metadata": {},
   "outputs": [],
   "source": [
    "#place_holder = np.random.randint(1,2,size=1939), this is because everyone will have bought something "
   ]
  },
  {
   "cell_type": "markdown",
   "id": "5b341aa5",
   "metadata": {},
   "source": [
    "# Unrealistic Values"
   ]
  },
  {
   "cell_type": "code",
   "execution_count": 30,
   "id": "56f95ea9",
   "metadata": {},
   "outputs": [],
   "source": [
    "#cahnge any values that do not make sense in calculations "
   ]
  },
  {
   "cell_type": "markdown",
   "id": "52eb60e7",
   "metadata": {},
   "source": [
    "# Typos and Textual Errors"
   ]
  },
  {
   "cell_type": "code",
   "execution_count": 31,
   "id": "90b03bd5",
   "metadata": {},
   "outputs": [
    {
     "data": {
      "text/plain": [
       "array(['Boo E', 'Book J', 'Bok N', 'Book I', 'Book B', 'Book D', 'Book P',\n",
       "       'Book M', 'Book O', 'Book T', 'Book A', nan, 'Book G', 'Book R',\n",
       "       'Book L', 'Book K', 'Book F', 'Bookk H', 'Book S'], dtype=object)"
      ]
     },
     "execution_count": 31,
     "metadata": {},
     "output_type": "execute_result"
    }
   ],
   "source": [
    "#list of product names so I can identify the typos\n",
    "data['ProdtName'].unique()"
   ]
  },
  {
   "cell_type": "code",
   "execution_count": 32,
   "id": "bb5b76b0",
   "metadata": {},
   "outputs": [
    {
     "data": {
      "text/plain": [
       "array(['Book E', 'Book J', 'Book N', 'Book I', 'Book B', 'Book D',\n",
       "       'Book P', 'Book M', 'Book O', 'Book T', 'Book A', nan, 'Book G',\n",
       "       'Book R', 'Book L', 'Book K', 'Book F', 'Book H', 'Book S'],\n",
       "      dtype=object)"
      ]
     },
     "execution_count": 32,
     "metadata": {},
     "output_type": "execute_result"
    }
   ],
   "source": [
    "#correcting the typos\n",
    "data['ProdtName'] = data['ProdtName'].replace({'Boo E':'Book E','Bok N':'Book N','Bookk H':'Book H'})\n",
    "data['ProdtName'].unique()"
   ]
  },
  {
   "cell_type": "markdown",
   "id": "47686a1e",
   "metadata": {},
   "source": [
    "# Changing datatypes"
   ]
  },
  {
   "cell_type": "code",
   "execution_count": 33,
   "id": "1847de32",
   "metadata": {},
   "outputs": [
    {
     "name": "stdout",
     "output_type": "stream",
     "text": [
      "<class 'pandas.core.frame.DataFrame'>\n",
      "Index: 10000 entries, 0 to 10099\n",
      "Data columns (total 10 columns):\n",
      " #   Column       Non-Null Count  Dtype  \n",
      "---  ------       --------------  -----  \n",
      " 0   TrnsnID      10000 non-null  int64  \n",
      " 1   Data         10000 non-null  object \n",
      " 2   CusmrID      10000 non-null  int64  \n",
      " 3   ProdtID      10000 non-null  int64  \n",
      " 4   ProdtName    9006 non-null   object \n",
      " 5   Qutity       10000 non-null  int32  \n",
      " 6   Prize        10000 non-null  float64\n",
      " 7   TtlSales     10000 non-null  float64\n",
      " 8   PaymentType  8561 non-null   object \n",
      " 9   CusterAge    10000 non-null  int32  \n",
      "dtypes: float64(2), int32(2), int64(3), object(3)\n",
      "memory usage: 781.2+ KB\n"
     ]
    }
   ],
   "source": [
    "data.info()"
   ]
  },
  {
   "cell_type": "code",
   "execution_count": 34,
   "id": "e717b38c",
   "metadata": {},
   "outputs": [],
   "source": [
    "#only columns involved in calculations should be interger data\n",
    "data['TrnsnID'] = data['TrnsnID'].astype(object)\n",
    "data['CusmrID'] = data['CusmrID'].astype(object)\n",
    "data['ProdtID'] = data['ProdtID'].astype(object)\n",
    "data['CusterAge'] = data['CusterAge'].astype(object)"
   ]
  },
  {
   "cell_type": "code",
   "execution_count": 35,
   "id": "e6a4b77a",
   "metadata": {},
   "outputs": [
    {
     "name": "stdout",
     "output_type": "stream",
     "text": [
      "<class 'pandas.core.frame.DataFrame'>\n",
      "Index: 10000 entries, 0 to 10099\n",
      "Data columns (total 10 columns):\n",
      " #   Column       Non-Null Count  Dtype  \n",
      "---  ------       --------------  -----  \n",
      " 0   TrnsnID      10000 non-null  object \n",
      " 1   Data         10000 non-null  object \n",
      " 2   CusmrID      10000 non-null  object \n",
      " 3   ProdtID      10000 non-null  object \n",
      " 4   ProdtName    9006 non-null   object \n",
      " 5   Qutity       10000 non-null  int32  \n",
      " 6   Prize        10000 non-null  float64\n",
      " 7   TtlSales     10000 non-null  float64\n",
      " 8   PaymentType  8561 non-null   object \n",
      " 9   CusterAge    10000 non-null  object \n",
      "dtypes: float64(2), int32(1), object(7)\n",
      "memory usage: 820.3+ KB\n"
     ]
    }
   ],
   "source": [
    "data.info()"
   ]
  },
  {
   "cell_type": "markdown",
   "id": "be660f27",
   "metadata": {},
   "source": [
    "# Correcting spellings in column headers"
   ]
  },
  {
   "cell_type": "code",
   "execution_count": 36,
   "id": "304843ab",
   "metadata": {},
   "outputs": [],
   "source": [
    "#Using the rename function to correct the column with wrong spelling\n",
    "data = data.rename(columns = {'TrnsnID':'TransactionID','Data':'Date','CusmrID':'customerID',\n",
    "                                    'ProdtID':'ProductID','ProdtName':'ProductName', 'Qutity':'Quantity',\n",
    "                                    'Prize':'Price','TtlSales':'TotalSales','CusterAge':'CustomerAge'})"
   ]
  },
  {
   "cell_type": "code",
   "execution_count": 37,
   "id": "753efda7",
   "metadata": {},
   "outputs": [
    {
     "data": {
      "text/html": [
       "<div>\n",
       "<style scoped>\n",
       "    .dataframe tbody tr th:only-of-type {\n",
       "        vertical-align: middle;\n",
       "    }\n",
       "\n",
       "    .dataframe tbody tr th {\n",
       "        vertical-align: top;\n",
       "    }\n",
       "\n",
       "    .dataframe thead th {\n",
       "        text-align: right;\n",
       "    }\n",
       "</style>\n",
       "<table border=\"1\" class=\"dataframe\">\n",
       "  <thead>\n",
       "    <tr style=\"text-align: right;\">\n",
       "      <th></th>\n",
       "      <th>TransactionID</th>\n",
       "      <th>Date</th>\n",
       "      <th>customerID</th>\n",
       "      <th>ProductID</th>\n",
       "      <th>ProductName</th>\n",
       "      <th>Quantity</th>\n",
       "      <th>Price</th>\n",
       "      <th>TotalSales</th>\n",
       "      <th>PaymentType</th>\n",
       "      <th>CustomerAge</th>\n",
       "    </tr>\n",
       "  </thead>\n",
       "  <tbody>\n",
       "    <tr>\n",
       "      <th>0</th>\n",
       "      <td>7402</td>\n",
       "      <td>03/17/2026</td>\n",
       "      <td>991</td>\n",
       "      <td>1045</td>\n",
       "      <td>Book E</td>\n",
       "      <td>9</td>\n",
       "      <td>167.72</td>\n",
       "      <td>2935.06</td>\n",
       "      <td>NaN</td>\n",
       "      <td>87</td>\n",
       "    </tr>\n",
       "    <tr>\n",
       "      <th>1</th>\n",
       "      <td>5835</td>\n",
       "      <td>26/01/2035</td>\n",
       "      <td>741</td>\n",
       "      <td>1040</td>\n",
       "      <td>Book J</td>\n",
       "      <td>18</td>\n",
       "      <td>193.27</td>\n",
       "      <td>4386.52</td>\n",
       "      <td>Debit Card</td>\n",
       "      <td>69</td>\n",
       "    </tr>\n",
       "    <tr>\n",
       "      <th>2</th>\n",
       "      <td>2123</td>\n",
       "      <td>05/26/2035</td>\n",
       "      <td>933</td>\n",
       "      <td>1062</td>\n",
       "      <td>Book N</td>\n",
       "      <td>5</td>\n",
       "      <td>126.39</td>\n",
       "      <td>1948.46</td>\n",
       "      <td>Cash</td>\n",
       "      <td>15</td>\n",
       "    </tr>\n",
       "    <tr>\n",
       "      <th>3</th>\n",
       "      <td>8789</td>\n",
       "      <td>28/02/2036</td>\n",
       "      <td>641</td>\n",
       "      <td>1060</td>\n",
       "      <td>Book I</td>\n",
       "      <td>6</td>\n",
       "      <td>66.98</td>\n",
       "      <td>1757.26</td>\n",
       "      <td>Cash</td>\n",
       "      <td>22</td>\n",
       "    </tr>\n",
       "    <tr>\n",
       "      <th>4</th>\n",
       "      <td>305</td>\n",
       "      <td>19/04/2023</td>\n",
       "      <td>123</td>\n",
       "      <td>1058</td>\n",
       "      <td>Book B</td>\n",
       "      <td>15</td>\n",
       "      <td>33.63</td>\n",
       "      <td>2578.19</td>\n",
       "      <td>Cash</td>\n",
       "      <td>1</td>\n",
       "    </tr>\n",
       "  </tbody>\n",
       "</table>\n",
       "</div>"
      ],
      "text/plain": [
       "  TransactionID        Date customerID ProductID ProductName  Quantity  \\\n",
       "0          7402  03/17/2026        991      1045      Book E         9   \n",
       "1          5835  26/01/2035        741      1040      Book J        18   \n",
       "2          2123  05/26/2035        933      1062      Book N         5   \n",
       "3          8789  28/02/2036        641      1060      Book I         6   \n",
       "4           305  19/04/2023        123      1058      Book B        15   \n",
       "\n",
       "    Price  TotalSales PaymentType CustomerAge  \n",
       "0  167.72     2935.06         NaN          87  \n",
       "1  193.27     4386.52  Debit Card          69  \n",
       "2  126.39     1948.46        Cash          15  \n",
       "3   66.98     1757.26        Cash          22  \n",
       "4   33.63     2578.19        Cash           1  "
      ]
     },
     "execution_count": 37,
     "metadata": {},
     "output_type": "execute_result"
    }
   ],
   "source": [
    "data.head()"
   ]
  },
  {
   "cell_type": "code",
   "execution_count": null,
   "id": "8d5853b0",
   "metadata": {},
   "outputs": [],
   "source": []
  }
 ],
 "metadata": {
  "kernelspec": {
   "display_name": "Python 3 (ipykernel)",
   "language": "python",
   "name": "python3"
  },
  "language_info": {
   "codemirror_mode": {
    "name": "ipython",
    "version": 3
   },
   "file_extension": ".py",
   "mimetype": "text/x-python",
   "name": "python",
   "nbconvert_exporter": "python",
   "pygments_lexer": "ipython3",
   "version": "3.11.5"
  }
 },
 "nbformat": 4,
 "nbformat_minor": 5
}
